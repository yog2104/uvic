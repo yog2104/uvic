{
 "cells": [
  {
   "cell_type": "markdown",
   "metadata": {},
   "source": [
    "# Publishing position information from Gazebo for Multiple Robots"
   ]
  },
  {
   "cell_type": "markdown",
   "metadata": {},
   "source": [
    "Sometimes localizing robots in Gazebo without using the navigation stack can be a headache. To deal with this problem, what we can do instead is launch a publisher node that gets the desired robot position from gazebo serivce and then pushes it into a rostopic. \n",
    "\n",
    "Gazebo has a service called \"get_model_state\" that can be used to obtain the position of various models in the simulation environment. The clearpath ridgeback package does not wholly support launching multiple robots currently. Hence setting up the navigation stack for muliple robots is a big headache. This shortcut helps us use gazebo as a localization system.\n",
    "\n",
    "Full credits to the tutorial from Rickardo Tellez from Construct Sim.\n",
    "[ ROS Q&A 007 - How to publish odometry from simulation position](https://www.youtube.com/watch?v=I_5leJK8vhQ)\n"
   ]
  },
  {
   "cell_type": "markdown",
   "metadata": {},
   "source": [
    "## Launch the simulation in Gazebo with the correct namespaces"
   ]
  },
  {
   "cell_type": "markdown",
   "metadata": {},
   "source": [
    "First step is to create a multi-robot launch file similar in structure(doesnt have to be a package) to [Multi Jackal Gazebo](https://github.com/NicksSimulationsROS/multi_jackal). Make sure to get the namespaces and the tf prefixes right. So that every topic being published is different for all the robots. "
   ]
  },
  {
   "cell_type": "markdown",
   "metadata": {},
   "source": [
    "## Check the service that generates position into Gazebo"
   ]
  },
  {
   "cell_type": "markdown",
   "metadata": {},
   "source": [
    "Check the list of services by gazebo"
   ]
  },
  {
   "cell_type": "code",
   "execution_count": null,
   "metadata": {},
   "outputs": [],
   "source": [
    "rosservice list"
   ]
  },
  {
   "cell_type": "code",
   "execution_count": null,
   "metadata": {},
   "outputs": [],
   "source": [
    "rosservice call /gazebo/get_model_state"
   ]
  },
  {
   "cell_type": "markdown",
   "metadata": {},
   "source": [
    "The above command publishes the position of models in Gazebo. Specify the robot model to get its position. In order to use it first get a list of model names."
   ]
  },
  {
   "cell_type": "code",
   "execution_count": null,
   "metadata": {},
   "outputs": [],
   "source": [
    "rosservice call /gazebo/get_world_properties"
   ]
  },
  {
   "cell_type": "code",
   "execution_count": null,
   "metadata": {},
   "outputs": [],
   "source": [
    "rosservice call /gazebo/get_model_state '{model_name: ridge0}'"
   ]
  },
  {
   "cell_type": "markdown",
   "metadata": {},
   "source": [
    "## Create a package for the publisher"
   ]
  },
  {
   "cell_type": "code",
   "execution_count": null,
   "metadata": {},
   "outputs": [],
   "source": [
    "cd ~/ridgeback_ws/src\n",
    "catkin_create_pkg gazebo_odom_publisher rospy\n",
    "cd gazebo_odom_publisher\n",
    "mkdir launch\n",
    "gedit start_odom.launch"
   ]
  },
  {
   "cell_type": "code",
   "execution_count": null,
   "metadata": {},
   "outputs": [],
   "source": [
    "<launch>\n",
    "    <node name=\"odom_pub\" pkg=\"gazebo_odom_publisher\" type=\"gazebo_odom.py\" output=\"screen\"/>\n",
    "</launch>"
   ]
  },
  {
   "cell_type": "code",
   "execution_count": null,
   "metadata": {},
   "outputs": [],
   "source": [
    "cd gazebo_odom_publisher/src\n",
    "gedit gazebo_odom.py"
   ]
  },
  {
   "cell_type": "code",
   "execution_count": null,
   "metadata": {},
   "outputs": [],
   "source": [
    "#!/usr/bin/env python\n",
    "\n",
    "import rospy\n",
    "from nav_msgs.msg import Odometry\n",
    "from std_msgs.msg import Header\n",
    "from gazebo_msgs.srv import GetModelState, GetModelStateRequest\n",
    "\n",
    "rospy.init_node('odom_pub')\n",
    "\n",
    "# Base name should not contian / so 'gazeboOdom'\n",
    "odom_pub = rospy.Publisher('gazeboOdom',Odometry,queue_size=10)\n",
    "\n",
    "# If the service is not working the node will wait here.\n",
    "rospy.wait_for_service('/gazebo/get_model_state')\n",
    "get_model_srv = rospy.ServiceProxy('/gazebo/get_model_state',GetModelState)\n",
    "\n",
    "# get msg from service and push into /gazeboOdom topic.\n",
    "\n",
    "odom = Odometry()\n",
    "header = Header()\n",
    "header.frame_id = '/odom'\n",
    "\n",
    "model = GetModelStateRequest()\n",
    "# The following depends on your robot\n",
    "model.model_name = 'mobile_base'\n",
    "\n",
    "rate = rospy.Rate(10)\n",
    "\n",
    "while not rospy.is_shutdown():\n",
    "    result = get_model_srv(model)\n",
    "    \n",
    "    odom.pose.pose = result.pose\n",
    "    odom.twist.twist = result.twist\n",
    "    \n",
    "    header.stamp = rospy.Time.now()\n",
    "    odom.header = header\n",
    "    odom_pub.publish(odom)\n",
    "    \n",
    "    rate.sleep()"
   ]
  },
  {
   "cell_type": "code",
   "execution_count": null,
   "metadata": {},
   "outputs": [],
   "source": [
    "chmod +x gazebo_odom.py"
   ]
  },
  {
   "cell_type": "code",
   "execution_count": null,
   "metadata": {},
   "outputs": [],
   "source": [
    "rossrv show gazebo_msgs/GetModelState\n",
    "rosmsg show Odometry"
   ]
  },
  {
   "cell_type": "code",
   "execution_count": null,
   "metadata": {},
   "outputs": [],
   "source": [
    "cd ../..\n",
    "catkin_make"
   ]
  },
  {
   "cell_type": "markdown",
   "metadata": {},
   "source": [
    "## Run the publisher node"
   ]
  },
  {
   "cell_type": "code",
   "execution_count": null,
   "metadata": {},
   "outputs": [],
   "source": [
    "roslaunch gazebo_odom_publisher start_odom.launch"
   ]
  },
  {
   "cell_type": "code",
   "execution_count": null,
   "metadata": {},
   "outputs": [],
   "source": [
    "rostopic list\n",
    "rostopic echo /gazeboOdom"
   ]
  },
  {
   "cell_type": "markdown",
   "metadata": {},
   "source": [
    "The above code helps publish the state of one model. In order to publish the positions of all the robots, \n",
    "the publisher created needs to accept the robot model as a param and publish data accordingly."
   ]
  },
  {
   "cell_type": "markdown",
   "metadata": {},
   "source": [
    "# Publisher for Multiple Robots"
   ]
  },
  {
   "cell_type": "markdown",
   "metadata": {},
   "source": [
    "The following creates a new publisher called \"gazebo_odom_multi.py\" that accepts the name of the model whose state \n",
    "has to be published as a parameter. This parameter is loaded in the launch file. This way the same publisher code can be replicated to publish the states of different robots."
   ]
  },
  {
   "cell_type": "markdown",
   "metadata": {},
   "source": [
    "## Create the new publisher node and the launch file"
   ]
  },
  {
   "cell_type": "code",
   "execution_count": null,
   "metadata": {},
   "outputs": [],
   "source": [
    "cd ~/ridgeback_ws/src/launch\n",
    "gedit start_odom_six.launch"
   ]
  },
  {
   "cell_type": "code",
   "execution_count": null,
   "metadata": {},
   "outputs": [],
   "source": [
    "<?xml version=\"1.0\"?>\n",
    "<launch>\n",
    " <node name=\"odom_pub_1\" pkg=\"gazebo_odom_publisher\" type=\"gazebo_odom_multi.py\" output=\"screen\">\n",
    "    <param name=\"robotName\" type=\"string\" value=\"ridge0\"/>\n",
    " </node>\n",
    " <node name=\"odom_pub_2\" pkg=\"gazebo_odom_publisher\" type=\"gazebo_odom_multi.py\" output=\"screen\">\n",
    "    <param name=\"robotName\" type=\"string\" value=\"ridge1\"/>\n",
    " </node>\t\n",
    " <node name=\"odom_pub_3\" pkg=\"gazebo_odom_publisher\" type=\"gazebo_odom_multi.py\" output=\"screen\">\n",
    "    <param name=\"robotName\" type=\"string\" value=\"ridge2\"/>\n",
    " </node>\n",
    " <node name=\"odom_pub_4\" pkg=\"gazebo_odom_publisher\" type=\"gazebo_odom_multi.py\" output=\"screen\">\n",
    "    <param name=\"robotName\" type=\"string\" value=\"ridge3\"/>\n",
    " </node>\n",
    " <node name=\"odom_pub_5\" pkg=\"gazebo_odom_publisher\" type=\"gazebo_odom_multi.py\" output=\"screen\">\n",
    "    <param name=\"robotName\" type=\"string\" value=\"ridge4\"/>\n",
    " </node>\n",
    " <node name=\"odom_pub_6\" pkg=\"gazebo_odom_publisher\" type=\"gazebo_odom_multi.py\" output=\"screen\">\n",
    "    <param name=\"robotName\" type=\"string\" value=\"ridge5\"/>\n",
    " </node>\n",
    " \n",
    "</launch>"
   ]
  },
  {
   "cell_type": "markdown",
   "metadata": {},
   "source": [
    "As can be noted, the value of the param \"robotName\" corresponds to the \"name\" argument passed while launching multiple robots in gazebo."
   ]
  },
  {
   "cell_type": "code",
   "execution_count": null,
   "metadata": {},
   "outputs": [],
   "source": [
    "cd gazebo_odom_publisher/src\n",
    "gedit gazebo_odom_multi.py"
   ]
  },
  {
   "cell_type": "code",
   "execution_count": null,
   "metadata": {},
   "outputs": [],
   "source": [
    "#!/usr/bin/env python\n",
    "\n",
    "import rospy\n",
    "from nav_msgs.msg import Odometry\n",
    "from std_msgs.msg import Header\n",
    "from gazebo_msgs.srv import GetModelState, GetModelStateRequest\n",
    "\n",
    "rospy.init_node('odom_pub')\n",
    "robot_name = rospy.get_param('~robotName')\n",
    "\n",
    "odom_pub = rospy.Publisher('/%s/gazeboOdom'% robot_name,Odometry,queue_size=10)\n",
    "\n",
    "rospy.wait_for_service('/gazebo/get_model_state')\n",
    "get_model_srv = rospy.ServiceProxy('/gazebo/get_model_state',GetModelState)\n",
    "\n",
    "odom = Odometry()\n",
    "header = Header()\n",
    "header.frame_id = '/odom'\n",
    "\n",
    "model = GetModelStateRequest()\n",
    "\n",
    "model.model_name = robot_name\n",
    "\n",
    "rate = rospy.Rate(10)\n",
    "\n",
    "while not rospy.is_shutdown():\n",
    "\tresult = get_model_srv(model)\n",
    "\t\n",
    "\todom.pose.pose = result.pose\n",
    "\todom.twist.twist = result.twist\n",
    "\n",
    "\theader.stamp = rospy.Time.now()\n",
    "\todom.header = header\n",
    "\todom_pub.publish(odom)\n",
    "\n",
    "\trate.sleep()"
   ]
  },
  {
   "cell_type": "code",
   "execution_count": null,
   "metadata": {},
   "outputs": [],
   "source": [
    "chmod +x gazebo_odom_multi.py"
   ]
  },
  {
   "cell_type": "markdown",
   "metadata": {},
   "source": [
    "## Run the multi robot publisher node."
   ]
  },
  {
   "cell_type": "code",
   "execution_count": null,
   "metadata": {},
   "outputs": [],
   "source": [
    "roslaunch gazebo_odom_publisher start_odom_six.launch"
   ]
  }
 ],
 "metadata": {
  "kernelspec": {
   "display_name": "Python 3",
   "language": "python",
   "name": "python3"
  },
  "language_info": {
   "codemirror_mode": {
    "name": "ipython",
    "version": 3
   },
   "file_extension": ".py",
   "mimetype": "text/x-python",
   "name": "python",
   "nbconvert_exporter": "python",
   "pygments_lexer": "ipython3",
   "version": "3.7.1"
  }
 },
 "nbformat": 4,
 "nbformat_minor": 2
}
