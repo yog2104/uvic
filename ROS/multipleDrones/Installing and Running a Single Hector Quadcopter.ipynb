{
 "cells": [
  {
   "cell_type": "markdown",
   "metadata": {},
   "source": [
    "[Source](https://github.com/AS4SR/general_info/wiki/(Some)-Robots-in-ROS-plus-Gazebo!) This notebook contains instructions about how the package for a single hector quadrotor can be installed in a ROS workspace in Ubuntu 16.04 + ROS Kinetic. Full credits to the source link mentioned above."
   ]
  },
  {
   "cell_type": "markdown",
   "metadata": {},
   "source": [
    "[IMPORTANT SOURCE](https://darienmt.com/autonomous-flight/2018/10/20/flying-ros-and-hector.html)\n",
    "This one is a very recent and a good introduction to launching hector drones."
   ]
  },
  {
   "cell_type": "markdown",
   "metadata": {},
   "source": [
    "There is currently no latest stable package release under kinetic (just the `kinetic-devel` branch). You need to do a \"manual\" install using git."
   ]
  },
  {
   "cell_type": "code",
   "execution_count": null,
   "metadata": {},
   "outputs": [],
   "source": [
    "sudo apt install ros-kinetic-joystick-drivers ros-kinetic-teleop-twist-keyboard\n",
    " cd ~/ridgeback_ws/src\n",
    " git clone https://github.com/AS4SR/hector_quadrotor.git # forked from kinetic-devel branch of https://github.com/tu-darmstadt-ros-pkg/hector_quadrotor.git\n",
    " git clone -b catkin https://github.com/tu-darmstadt-ros-pkg/hector_slam.git\n",
    " git clone -b catkin https://github.com/tu-darmstadt-ros-pkg/hector_localization.git\n",
    " git clone -b kinetic-devel https://github.com/tu-darmstadt-ros-pkg/hector_gazebo.git\n",
    " git clone -b kinetic-devel https://github.com/tu-darmstadt-ros-pkg/hector_models.git\n",
    " cd ~/ridgeback_ws\n",
    " catkin_make\n",
    " source devel/setup.bash"
   ]
  },
  {
   "cell_type": "markdown",
   "metadata": {},
   "source": [
    "In addition, the \"joy-teleop\" node for ROS kinetic has to be installed."
   ]
  },
  {
   "cell_type": "code",
   "execution_count": null,
   "metadata": {},
   "outputs": [],
   "source": [
    "sudo apt-get install ros-kinetic-joy"
   ]
  },
  {
   "cell_type": "code",
   "execution_count": null,
   "metadata": {},
   "outputs": [],
   "source": [
    "roslaunch hector_quadrotor_demo indoor_slam_gazebo_only.launch"
   ]
  },
  {
   "cell_type": "markdown",
   "metadata": {},
   "source": [
    "First of all I hope you are using teleop_twist_keyboard for keyboard teleop.\n",
    "\n",
    "Now the catch here is this package does not let you control the climb rate (velocity in Z direction) of the quadrotor UAV. A quick fix to test out the demo is to publish a single message on the /cmd_vel topic with a positive velocity-z component and then use keyboard to maneuver the quadrotor:"
   ]
  },
  {
   "cell_type": "code",
   "execution_count": null,
   "metadata": {},
   "outputs": [],
   "source": [
    "rostopic pub -1 /cmd_vel geometry_msgs/Twist -- '[0.0, 0.0, 0.3]' '[0.0, 0.0, 0.0]'"
   ]
  },
  {
   "cell_type": "code",
   "execution_count": null,
   "metadata": {},
   "outputs": [],
   "source": [
    "rosservice call /enable_motors true # so the \"motors\" will respond to `geometry_msgs/Twist` commands to `/cmd_vel`\n",
    "rosrun teleop_twist_keyboard teleop_twist_keyboard.py"
   ]
  }
 ],
 "metadata": {
  "kernelspec": {
   "display_name": "Python 3",
   "language": "python",
   "name": "python3"
  },
  "language_info": {
   "codemirror_mode": {
    "name": "ipython",
    "version": 3
   },
   "file_extension": ".py",
   "mimetype": "text/x-python",
   "name": "python",
   "nbconvert_exporter": "python",
   "pygments_lexer": "ipython3",
   "version": "3.7.1"
  }
 },
 "nbformat": 4,
 "nbformat_minor": 2
}
