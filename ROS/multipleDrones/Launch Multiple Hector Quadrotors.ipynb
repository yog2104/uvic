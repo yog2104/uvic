{
 "cells": [
  {
   "cell_type": "markdown",
   "metadata": {},
   "source": [
    "This set of instructions assumes that a single hector quadrotor can be launched from the previous tutorial. The instructions define how to set up namespaces and tf_prefixes to be able to launch multiple robots of the same type in ROS+Gazebo. Based on a tutorial by constructSim [Launch Multiple Drones Youtube](https://www.youtube.com/watch?v=KjxHQLQ0tiE)\n",
    "NOTE: The launch files open gzserver only (Gazebo is run in what is called the headless mode). This means the gui has to be launched using a separate command \"gzclient\". But this helps when experimenting with launching and stopping simulations often. "
   ]
  },
  {
   "cell_type": "markdown",
   "metadata": {},
   "source": [
    "# Launch one drone"
   ]
  },
  {
   "cell_type": "code",
   "execution_count": null,
   "metadata": {},
   "outputs": [],
   "source": [
    "cd ~/ridgeback_ws/src\n",
    "source /devel/setup.bash\n",
    "\n",
    "roslaunch hector_quadrotor_demo indoor_slam_gazebo_only.launch\n",
    "rostopic list"
   ]
  },
  {
   "cell_type": "markdown",
   "metadata": {},
   "source": [
    "# Launch two drones"
   ]
  },
  {
   "cell_type": "markdown",
   "metadata": {},
   "source": [
    "If the above launched a drone in Gazebo, then we can get on with creating a package to launch multiple files. This is a whole lot easier to do than multi_ridge because the hector package has been built with the ability to add namespaces and tf_prefixes easily. To organize the handling, a separate package is created. This need not be done every time the drones have to be launched. Once \"~/ridgeback_ws/src/multi_hector\" package is created, just start by calling \"roslaunch\"."
   ]
  },
  {
   "cell_type": "markdown",
   "metadata": {},
   "source": [
    "## Create a package to hold the launcher"
   ]
  },
  {
   "cell_type": "code",
   "execution_count": null,
   "metadata": {},
   "outputs": [],
   "source": [
    "catkin_create_pkg multi_hector rospy\n",
    "cd multi_hector\n",
    "mkdir launch\n",
    "cd launch\n",
    "gedit two_hector.launch\n"
   ]
  },
  {
   "cell_type": "code",
   "execution_count": null,
   "metadata": {},
   "outputs": [],
   "source": [
    "<?xml version=\"1.0\"?>\n",
    "<launch>\n",
    "\t<arg name=\"gui\"        default=\"false\"/>\n",
    "\t<!-- Start Gazebo with empty world running in (max) realtime -->\n",
    "\t<include file=\"$(find hector_gazebo_worlds)/launch/start.launch\">\n",
    "    \t\t<arg name=\"gui\"          value=\"$(arg gui)\"/>\n",
    "\t</include>\n",
    "\n",
    "\t<group ns=\"drone1\">\n",
    "\t\t<include file=\"$(find hector_quadrotor_gazebo)/launch/spawn_quadrotor.launch\" >\n",
    "\t\t<arg name=\"name\" value=\"drone1\"/>\n",
    "\t\t<arg name=\"tf_prefix\" value=\"drone1\"/>\n",
    "\t\t<arg name=\"x\" value=\"0\"/>\n",
    "\t\t<arg name=\"y\" value=\"0\"/>\n",
    "\t\t<arg name=\"model\" value=\"$(find hector_quadrotor_description)/urdf/quadrotor_hokuyo_utm30lx.gazebo.xacro\"/>\n",
    "\t\t<arg name=\"controllers\" value=\"\n",
    "        \tcontroller/attitude\n",
    "        \tcontroller/velocity\n",
    "        \tcontroller/position\"/>\n",
    "\t\t</include>\t\t\n",
    "\t</group>\n",
    "\n",
    "\t<group ns=\"drone2\">\n",
    "\t\t<include file=\"$(find hector_quadrotor_gazebo)/launch/spawn_quadrotor.launch\" >\n",
    "\t\t<arg name=\"name\" value=\"drone2\"/>\n",
    "\t\t<arg name=\"tf_prefix\" value=\"drone2\"/>\n",
    "\t\t<arg name=\"x\" value=\"1\"/>\n",
    "\t\t<arg name=\"y\" value=\"1\"/>\n",
    "\t\t<arg name=\"model\" value=\"$(find hector_quadrotor_description)/urdf/quadrotor_hokuyo_utm30lx.gazebo.xacro\"/>\n",
    "\t\t<arg name=\"controllers\" value=\"\n",
    "        \tcontroller/attitude\n",
    "        \tcontroller/velocity\n",
    "        \tcontroller/position\"/>\n",
    "\t\t</include>\t\t\n",
    "\t</group>\n",
    "</launch>"
   ]
  },
  {
   "cell_type": "markdown",
   "metadata": {},
   "source": [
    "## Launch the drones"
   ]
  },
  {
   "cell_type": "code",
   "execution_count": null,
   "metadata": {},
   "outputs": [],
   "source": [
    "cd ~/ridgeback_ws/src\n",
    "roslaunch multi_hector two_hector.launch"
   ]
  },
  {
   "cell_type": "code",
   "execution_count": null,
   "metadata": {},
   "outputs": [],
   "source": [
    "#In a new terminal\n",
    "gzclient"
   ]
  },
  {
   "cell_type": "markdown",
   "metadata": {},
   "source": [
    "# Launch Six drones"
   ]
  },
  {
   "cell_type": "markdown",
   "metadata": {},
   "source": [
    "## Create a launch file to launch 6 drones."
   ]
  },
  {
   "cell_type": "code",
   "execution_count": null,
   "metadata": {},
   "outputs": [],
   "source": [
    "gedit six_hector.launch"
   ]
  },
  {
   "cell_type": "code",
   "execution_count": null,
   "metadata": {},
   "outputs": [],
   "source": [
    "<?xml version=\"1.0\"?>\n",
    "<launch>\n",
    "\t<arg name=\"gui\"        default=\"false\"/>\n",
    "\t<!-- Start Gazebo with empty world running in (max) realtime -->\n",
    "\t<include file=\"$(find hector_gazebo_worlds)/launch/start.launch\">\n",
    "    \t\t<arg name=\"gui\"          value=\"$(arg gui)\"/>\n",
    "\t</include>\n",
    "\n",
    "\t<group ns=\"drone1\">\n",
    "\t\t<include file=\"$(find hector_quadrotor_gazebo)/launch/spawn_quadrotor.launch\" >\n",
    "\t\t<arg name=\"name\" value=\"drone1\"/>\n",
    "\t\t<arg name=\"tf_prefix\" value=\"drone1\"/>\n",
    "\t\t<arg name=\"x\" value=\"6\"/>\n",
    "\t\t<arg name=\"y\" value=\"5\"/>\n",
    "\t\t<arg name=\"model\" value=\"$(find hector_quadrotor_description)/urdf/quadrotor_hokuyo_utm30lx.gazebo.xacro\"/>\n",
    "\t\t<arg name=\"controllers\" value=\"\n",
    "        \tcontroller/attitude\n",
    "        \tcontroller/velocity\n",
    "        \tcontroller/position\"/>\n",
    "\t\t</include>\t\t\n",
    "\t</group>\n",
    "\n",
    "\t<group ns=\"drone2\">\n",
    "\t\t<include file=\"$(find hector_quadrotor_gazebo)/launch/spawn_quadrotor.launch\" >\n",
    "\t\t<arg name=\"name\" value=\"drone2\"/>\n",
    "\t\t<arg name=\"tf_prefix\" value=\"drone2\"/>\n",
    "\t\t<arg name=\"x\" value=\"-4\"/>\n",
    "\t\t<arg name=\"y\" value=\"6\"/>\n",
    "\t\t<arg name=\"model\" value=\"$(find hector_quadrotor_description)/urdf/quadrotor_hokuyo_utm30lx.gazebo.xacro\"/>\n",
    "\t\t<arg name=\"controllers\" value=\"\n",
    "        \tcontroller/attitude\n",
    "        \tcontroller/velocity\n",
    "        \tcontroller/position\"/>\n",
    "\t\t</include>\t\t\n",
    "\t</group>\n",
    "\n",
    "\t<group ns=\"drone3\">\n",
    "\t\t<include file=\"$(find hector_quadrotor_gazebo)/launch/spawn_quadrotor.launch\" >\n",
    "\t\t<arg name=\"name\" value=\"drone3\"/>\n",
    "\t\t<arg name=\"tf_prefix\" value=\"drone3\"/>\n",
    "\t\t<arg name=\"x\" value=\"-5\"/>\n",
    "\t\t<arg name=\"y\" value=\"5\"/>\n",
    "\t\t<arg name=\"model\" value=\"$(find hector_quadrotor_description)/urdf/quadrotor_hokuyo_utm30lx.gazebo.xacro\"/>\n",
    "\t\t<arg name=\"controllers\" value=\"\n",
    "        \tcontroller/attitude\n",
    "        \tcontroller/velocity\n",
    "        \tcontroller/position\"/>\n",
    "\t\t</include>\t\t\n",
    "\t</group>\n",
    "\n",
    "\t<group ns=\"drone4\">\n",
    "\t\t<include file=\"$(find hector_quadrotor_gazebo)/launch/spawn_quadrotor.launch\" >\n",
    "\t\t<arg name=\"name\" value=\"drone4\"/>\n",
    "\t\t<arg name=\"tf_prefix\" value=\"drone4\"/>\n",
    "\t\t<arg name=\"x\" value=\"3\"/>\n",
    "\t\t<arg name=\"y\" value=\"5\"/>\n",
    "\t\t<arg name=\"model\" value=\"$(find hector_quadrotor_description)/urdf/quadrotor_hokuyo_utm30lx.gazebo.xacro\"/>\n",
    "\t\t<arg name=\"controllers\" value=\"\n",
    "        \tcontroller/attitude\n",
    "        \tcontroller/velocity\n",
    "        \tcontroller/position\"/>\n",
    "\t\t</include>\t\t\n",
    "\t</group>\n",
    "\n",
    "\t<group ns=\"drone5\">\n",
    "\t\t<include file=\"$(find hector_quadrotor_gazebo)/launch/spawn_quadrotor.launch\" >\n",
    "\t\t<arg name=\"name\" value=\"drone5\"/>\n",
    "\t\t<arg name=\"tf_prefix\" value=\"drone5\"/>\n",
    "\t\t<arg name=\"x\" value=\"14\"/>\n",
    "\t\t<arg name=\"y\" value=\"-4\"/>\n",
    "\t\t<arg name=\"model\" value=\"$(find hector_quadrotor_description)/urdf/quadrotor_hokuyo_utm30lx.gazebo.xacro\"/>\n",
    "\t\t<arg name=\"controllers\" value=\"\n",
    "        \tcontroller/attitude\n",
    "        \tcontroller/velocity\n",
    "        \tcontroller/position\"/>\n",
    "\t\t</include>\t\t\n",
    "\t</group>\n",
    "\n",
    "\t<group ns=\"drone6\">\n",
    "\t\t<include file=\"$(find hector_quadrotor_gazebo)/launch/spawn_quadrotor.launch\" >\n",
    "\t\t<arg name=\"name\" value=\"drone6\"/>\n",
    "\t\t<arg name=\"tf_prefix\" value=\"drone6\"/>\n",
    "\t\t<arg name=\"x\" value=\"10\"/>\n",
    "\t\t<arg name=\"y\" value=\"7\"/>\n",
    "\t\t<arg name=\"model\" value=\"$(find hector_quadrotor_description)/urdf/quadrotor_hokuyo_utm30lx.gazebo.xacro\"/>\n",
    "\t\t<arg name=\"controllers\" value=\"\n",
    "        \tcontroller/attitude\n",
    "        \tcontroller/velocity\n",
    "        \tcontroller/position\"/>\n",
    "\t\t</include>\t\t\n",
    "\t</group>\n",
    "\t\n",
    "\t\n",
    "\t\n",
    "</launch>"
   ]
  },
  {
   "cell_type": "markdown",
   "metadata": {},
   "source": [
    "## Launch the six drones"
   ]
  },
  {
   "cell_type": "code",
   "execution_count": null,
   "metadata": {},
   "outputs": [],
   "source": [
    "cd ~/ridgeback_ws/src\n",
    "roslaunch multi_hector six_hector.launch"
   ]
  }
 ],
 "metadata": {
  "kernelspec": {
   "display_name": "Python 3",
   "language": "python",
   "name": "python3"
  },
  "language_info": {
   "codemirror_mode": {
    "name": "ipython",
    "version": 3
   },
   "file_extension": ".py",
   "mimetype": "text/x-python",
   "name": "python",
   "nbconvert_exporter": "python",
   "pygments_lexer": "ipython3",
   "version": "3.7.1"
  }
 },
 "nbformat": 4,
 "nbformat_minor": 2
}
