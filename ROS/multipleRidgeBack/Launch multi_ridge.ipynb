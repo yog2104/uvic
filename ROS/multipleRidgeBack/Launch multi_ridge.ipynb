{
 "cells": [
  {
   "cell_type": "markdown",
   "metadata": {},
   "source": [
    "# Launch multiple Clearpath Ridgeback Robots Gazebo"
   ]
  },
  {
   "cell_type": "markdown",
   "metadata": {},
   "source": [
    "In this tutorial, I will describe how I managed to learn how to launch multiple clearpath robots. My use case was to launch several robots in gazebo to show formation control. Because dealing with formation control algorithms using first order consensus is easier in holonomic robots and quadcopters,(long story short is they dont really have to worry about heading/orientation), I picked the elegant looking Clearpath Ridgeback.\n",
    "\n",
    "Unfortunately, the documentation for ROS robots are all over the internet and constantly need looking up.\n",
    "\n",
    "Although launching multiple robots is a headache in ROS owing to creating different namespaces and tf's, it is a well documented and well known process. The following are a few links from which this tutorial is based on."
   ]
  },
  {
   "cell_type": "markdown",
   "metadata": {},
   "source": [
    "The official roslaunch tutorial to understand namespaces and why each robot needs a different one,\n",
    "http://wiki.ros.org/ROS/Tutorials/UsingRqtconsoleRoslaunch"
   ]
  },
  {
   "cell_type": "markdown",
   "metadata": {},
   "source": [
    "## Resources for Launching Multiple Robots in Gazebo"
   ]
  },
  {
   "cell_type": "markdown",
   "metadata": {},
   "source": [
    "A good place to get Description files for robots, the turtle bot and to launch one at a time in gazebo is to use the turtlebot3 tutorials. Turtelbot3 are official ROS robots supported by a Chinese company called Robotis. They are the most up to date tutorials on ROS in the web in 2019. Get and install their packages.\n",
    "\n",
    "http://emanual.robotis.com/docs/en/platform/turtlebot3/simulation/"
   ]
  },
  {
   "cell_type": "markdown",
   "metadata": {},
   "source": [
    "Then look at how multiple robots are launched in a single ROS launch file using the following tutorial.\n",
    "http://www.theconstructsim.com/ros-qa-130-how-to-launch-multiple-robots-in-gazebo-simulator/\n",
    "\n",
    "Although this is a good tutorial, they will not directly work on launching multiple Clearpath ridgeback robots."
   ]
  },
  {
   "cell_type": "markdown",
   "metadata": {},
   "source": [
    "For this multiple sources proved usefull. The first one being a tutorial on how to launch multiple clearpath huskys.\n",
    "https://www.clearpathrobotics.com/blog/2016/03/simulating-multiple-husky-ugvs-in-gazebo/\n",
    "\n",
    "Although it is a good blogpost, the github link wont run in kinetic. But it gives a good introduction to how many places the files have to be changed to get namespaces in tf tree.\n",
    "\n",
    "Then download and install multi_jackal package from\n",
    "https://github.com/NicksSimulationsROS/multi_jackal\n",
    "\n",
    "This one is a complete package and works fine on Ubuntu 16.04. \n",
    "\n",
    "begin by looking at \"multi_jakcal\" package and study the order in which launch files are called. Combine that knowledge with the official ridgeback repo on github and you should have a clear way to build a package similar to \"multi_jackal\"."
   ]
  },
  {
   "cell_type": "markdown",
   "metadata": {},
   "source": [
    "By combining the above knowledge sources, I was able to hack together a package called \"multi_ridge\" to launch\n",
    "multiple ridgeback robots. The code for this is on my github. The following shows how to use it."
   ]
  },
  {
   "cell_type": "markdown",
   "metadata": {},
   "source": [
    "# Using multi_ridge package"
   ]
  },
  {
   "cell_type": "code",
   "execution_count": null,
   "metadata": {},
   "outputs": [],
   "source": [
    "matlab -softwareopengl"
   ]
  },
  {
   "cell_type": "markdown",
   "metadata": {},
   "source": [
    "There is also the issue of Matlab 2018b files not working with 2018a. So export formation control model to 2018a."
   ]
  },
  {
   "cell_type": "markdown",
   "metadata": {},
   "source": [
    "The multi_ridge package is now running. In order to launch several holonomic robots together set up 6 publishers\n",
    "and subscribers in the "
   ]
  },
  {
   "cell_type": "code",
   "execution_count": null,
   "metadata": {},
   "outputs": [],
   "source": [
    "cd ~/ridgeback_ws\n",
    "source devel/setup.bash\n",
    "\n",
    "#roslaunch multi_ridge multi_ridge.launch\n",
    "roslaunch multi_ridge six_ridge.launch\n",
    "# In a new terminal\n",
    "gzclient"
   ]
  }
 ],
 "metadata": {
  "kernelspec": {
   "display_name": "Python 3",
   "language": "python",
   "name": "python3"
  },
  "language_info": {
   "codemirror_mode": {
    "name": "ipython",
    "version": 3
   },
   "file_extension": ".py",
   "mimetype": "text/x-python",
   "name": "python",
   "nbconvert_exporter": "python",
   "pygments_lexer": "ipython3",
   "version": "3.7.1"
  }
 },
 "nbformat": 4,
 "nbformat_minor": 2
}
